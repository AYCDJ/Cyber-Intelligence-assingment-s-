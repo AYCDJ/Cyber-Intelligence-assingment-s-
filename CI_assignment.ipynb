{
  "nbformat": 4,
  "nbformat_minor": 0,
  "metadata": {
    "colab": {
      "provenance": [],
      "authorship_tag": "ABX9TyOMWNGqPN+lzwOYPxXAwRPd",
      "include_colab_link": true
    },
    "kernelspec": {
      "name": "python3",
      "display_name": "Python 3"
    },
    "language_info": {
      "name": "python"
    }
  },
  "cells": [
    {
      "cell_type": "markdown",
      "metadata": {
        "id": "view-in-github",
        "colab_type": "text"
      },
      "source": [
        "<a href=\"https://colab.research.google.com/github/AYCDJ/Cyber-Intelligence-assingment-s-/blob/main/CI_assignment.ipynb\" target=\"_parent\"><img src=\"https://colab.research.google.com/assets/colab-badge.svg\" alt=\"Open In Colab\"/></a>"
      ]
    },
    {
      "cell_type": "code",
      "execution_count": 8,
      "metadata": {
        "colab": {
          "base_uri": "https://localhost:8080/"
        },
        "id": "bBDoTgnMngHT",
        "outputId": "b8078b3a-37c4-406c-db52-e66bba3179e7"
      },
      "outputs": [
        {
          "output_type": "stream",
          "name": "stdout",
          "text": [
            "<class 'pandas.core.frame.DataFrame'>\n",
            "RangeIndex: 373 entries, 0 to 372\n",
            "Columns: 532 entries, Label to F_531\n",
            "dtypes: int64(531), object(1)\n",
            "memory usage: 1.5+ MB\n"
          ]
        },
        {
          "output_type": "execute_result",
          "data": {
            "text/plain": [
              "(None,\n",
              "            Label  F_1  F_2  F_3  F_4  F_5  F_6  F_7  F_8  F_9  ...  F_522  \\\n",
              " 0  non-malicious    1    0    1    0    1    0    1    0    1  ...      0   \n",
              " 1  non-malicious    1    0    1    0    1    0    1    0    1  ...      0   \n",
              " 2  non-malicious    1    0    1    0    1    0    1    0    1  ...      0   \n",
              " 3  non-malicious    1    0    1    0    1    0    1    0    1  ...      0   \n",
              " 4  non-malicious    1    0    1    0    1    0    1    0    1  ...      0   \n",
              " \n",
              "    F_523  F_524  F_525  F_526  F_527  F_528  F_529  F_530  F_531  \n",
              " 0      0      0      0      0      0      0      0      0      0  \n",
              " 1      0      0      0      0      0      0      0      0      0  \n",
              " 2      0      0      0      0      0      0      0      0      0  \n",
              " 3      0      0      0      0      0      0      0      0      0  \n",
              " 4      0      0      0      0      0      0      0      0      0  \n",
              " \n",
              " [5 rows x 532 columns])"
            ]
          },
          "metadata": {},
          "execution_count": 8
        }
      ],
      "source": [
        "import pandas as pd\n",
        "\n",
        "# Load the dataset and display basic information\n",
        "file_path = \"uci_malware_detection.csv\"\n",
        "df = pd.read_csv(file_path)\n",
        "df.info(), df.head()\n"
      ]
    },
    {
      "cell_type": "code",
      "source": [
        "from sklearn.model_selection import train_test_split\n",
        "from sklearn.preprocessing import LabelEncoder\n",
        "\n",
        "# Encode the label column (malicious = 1, non-malicious = 0)\n",
        "df['Label'] = LabelEncoder().fit_transform(df['Label'])\n",
        "\n",
        "# Check the class distribution\n",
        "class_counts = df['Label'].value_counts()\n",
        "\n",
        "# Split features and labels into training and test sets (80% train, 20% test)\n",
        "X = df.drop(columns=['Label'])\n",
        "y = df['Label']\n",
        "X_train, X_test, y_train, y_test = train_test_split(X, y, test_size=0.2, stratify=y, random_state=42)\n",
        "\n",
        "# Display class distribution and dataset shape\n",
        "class_counts, X_train.shape, X_test.shape\n"
      ],
      "metadata": {
        "colab": {
          "base_uri": "https://localhost:8080/"
        },
        "id": "pkYOE8I9n2xD",
        "outputId": "15c9adba-beb4-4bea-fa4d-feb5cd1f7b89"
      },
      "execution_count": 9,
      "outputs": [
        {
          "output_type": "execute_result",
          "data": {
            "text/plain": [
              "(Label\n",
              " 0    301\n",
              " 1     72\n",
              " Name: count, dtype: int64,\n",
              " (298, 531),\n",
              " (75, 531))"
            ]
          },
          "metadata": {},
          "execution_count": 9
        }
      ]
    },
    {
      "cell_type": "code",
      "source": [
        "from imblearn.over_sampling import SMOTE\n",
        "\n",
        "# Apply SMOTE to balance the dataset\n",
        "smote = SMOTE(random_state=42)\n",
        "X_train_resampled, y_train_resampled = smote.fit_resample(X_train, y_train)\n",
        "resampled_class_counts = pd.Series(y_train_resampled).value_counts()\n",
        "resampled_class_counts\n"
      ],
      "metadata": {
        "colab": {
          "base_uri": "https://localhost:8080/",
          "height": 178
        },
        "id": "r-yF3IIwn676",
        "outputId": "901e6312-34cd-456d-bced-44802d4e8fc1"
      },
      "execution_count": 10,
      "outputs": [
        {
          "output_type": "execute_result",
          "data": {
            "text/plain": [
              "Label\n",
              "0    240\n",
              "1    240\n",
              "Name: count, dtype: int64"
            ],
            "text/html": [
              "<div>\n",
              "<style scoped>\n",
              "    .dataframe tbody tr th:only-of-type {\n",
              "        vertical-align: middle;\n",
              "    }\n",
              "\n",
              "    .dataframe tbody tr th {\n",
              "        vertical-align: top;\n",
              "    }\n",
              "\n",
              "    .dataframe thead th {\n",
              "        text-align: right;\n",
              "    }\n",
              "</style>\n",
              "<table border=\"1\" class=\"dataframe\">\n",
              "  <thead>\n",
              "    <tr style=\"text-align: right;\">\n",
              "      <th></th>\n",
              "      <th>count</th>\n",
              "    </tr>\n",
              "    <tr>\n",
              "      <th>Label</th>\n",
              "      <th></th>\n",
              "    </tr>\n",
              "  </thead>\n",
              "  <tbody>\n",
              "    <tr>\n",
              "      <th>0</th>\n",
              "      <td>240</td>\n",
              "    </tr>\n",
              "    <tr>\n",
              "      <th>1</th>\n",
              "      <td>240</td>\n",
              "    </tr>\n",
              "  </tbody>\n",
              "</table>\n",
              "</div><br><label><b>dtype:</b> int64</label>"
            ]
          },
          "metadata": {},
          "execution_count": 10
        }
      ]
    },
    {
      "cell_type": "code",
      "source": [
        "import numpy as np\n",
        "import pandas as pd\n",
        "from sklearn.model_selection import cross_val_score, cross_val_predict, StratifiedKFold\n",
        "from sklearn.tree import DecisionTreeClassifier\n",
        "from sklearn.ensemble import RandomForestClassifier\n",
        "from sklearn.svm import SVC\n",
        "from sklearn.metrics import accuracy_score, precision_score, recall_score, f1_score, roc_auc_score\n",
        "\n",
        "# Define models, decision tree, random forest, and svm\n",
        "models = {\n",
        "    \"Decision Tree\": DecisionTreeClassifier(class_weight=\"balanced\", random_state=42),\n",
        "    \"Random Forest\": RandomForestClassifier(class_weight=\"balanced\", n_estimators=100, random_state=42),\n",
        "    \"SVM\": SVC(class_weight=\"balanced\", probability=True, random_state=42)\n",
        "}\n",
        "\n",
        "cv = StratifiedKFold(n_splits=5, shuffle=True, random_state=42)\n",
        "\n",
        "# Store results\n",
        "results = {}\n",
        "\n",
        "for model_name, model in models.items():\n",
        "    print(f\"Training {model_name}...\")\n",
        "\n",
        "    # Cross-validation predictions and performance metrics\n",
        "    y_pred = cross_val_predict(model, X_train_selected, y_train, cv=cv)\n",
        "\n",
        "    accuracy = accuracy_score(y_train, y_pred)\n",
        "    precision = precision_score(y_train, y_pred)\n",
        "    recall = recall_score(y_train, y_pred)\n",
        "    f1 = f1_score(y_train, y_pred)\n",
        "    roc_auc = roc_auc_score(y_train, y_pred)\n",
        "\n",
        "    results[model_name] = {\n",
        "        \"Accuracy\": accuracy,\n",
        "        \"Precision\": precision,\n",
        "        \"Recall\": recall,\n",
        "        \"F1-score\": f1,\n",
        "        \"ROC-AUC\": roc_auc\n",
        "    }\n",
        "\n",
        "# Convert results to a DataFrame for visualization\n",
        "results_df = pd.DataFrame(results).T\n",
        "print(\"\\nModel Performance:\\n\", results_df)\n"
      ],
      "metadata": {
        "colab": {
          "base_uri": "https://localhost:8080/"
        },
        "id": "6zj-ZdrxoQy4",
        "outputId": "654ef397-ac44-43fd-cf18-038a77db2279"
      },
      "execution_count": 17,
      "outputs": [
        {
          "output_type": "stream",
          "name": "stdout",
          "text": [
            "Training Decision Tree...\n",
            "Training Random Forest...\n",
            "Training SVM...\n",
            "\n",
            "Model Performance:\n",
            "                Accuracy  Precision    Recall  F1-score   ROC-AUC\n",
            "Decision Tree  0.996644        1.0  0.982759  0.991304  0.991379\n",
            "Random Forest  0.993289        1.0  0.965517  0.982456  0.982759\n",
            "SVM            0.993289        1.0  0.965517  0.982456  0.982759\n"
          ]
        }
      ]
    }
  ]
}